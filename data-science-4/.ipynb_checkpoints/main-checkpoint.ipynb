{
 "cells": [
  {
   "cell_type": "markdown",
   "metadata": {},
   "source": [
    "# Desafio 6\n",
    "\n",
    "Neste desafio, vamos praticar _feature engineering_, um dos processos mais importantes e trabalhosos de ML. Utilizaremos o _data set_ [Countries of the world](https://www.kaggle.com/fernandol/countries-of-the-world), que contém dados sobre os 227 países do mundo com informações sobre tamanho da população, área, imigração e setores de produção.\n",
    "\n",
    "> Obs.: Por favor, não modifique o nome das funções de resposta."
   ]
  },
  {
   "cell_type": "markdown",
   "metadata": {},
   "source": [
    "## _Setup_ geral"
   ]
  },
  {
   "cell_type": "code",
   "execution_count": 2,
   "metadata": {},
   "outputs": [],
   "source": [
    "import pandas as pd\n",
    "import numpy as np\n",
    "import seaborn as sns\n",
    "import sklearn as sk"
   ]
  },
  {
   "cell_type": "code",
   "execution_count": 3,
   "metadata": {},
   "outputs": [],
   "source": [
    "# Algumas configurações para o matplotlib.\n",
    "# %matplotlib inline\n",
    "\n",
    "from IPython.core.pylabtools import figsize\n",
    "\n",
    "\n",
    "figsize(12, 8)\n",
    "\n",
    "sns.set()"
   ]
  },
  {
   "cell_type": "code",
   "execution_count": 4,
   "metadata": {
    "scrolled": false
   },
   "outputs": [],
   "source": [
    "countries = pd.read_csv(\"countries of the world.csv\")"
   ]
  },
  {
   "cell_type": "code",
   "execution_count": 5,
   "metadata": {},
   "outputs": [
    {
     "data": {
      "text/html": [
       "<div>\n",
       "<style scoped>\n",
       "    .dataframe tbody tr th:only-of-type {\n",
       "        vertical-align: middle;\n",
       "    }\n",
       "\n",
       "    .dataframe tbody tr th {\n",
       "        vertical-align: top;\n",
       "    }\n",
       "\n",
       "    .dataframe thead th {\n",
       "        text-align: right;\n",
       "    }\n",
       "</style>\n",
       "<table border=\"1\" class=\"dataframe\">\n",
       "  <thead>\n",
       "    <tr style=\"text-align: right;\">\n",
       "      <th></th>\n",
       "      <th>Country</th>\n",
       "      <th>Region</th>\n",
       "      <th>Population</th>\n",
       "      <th>Area</th>\n",
       "      <th>Pop_density</th>\n",
       "      <th>Coastline_ratio</th>\n",
       "      <th>Net_migration</th>\n",
       "      <th>Infant_mortality</th>\n",
       "      <th>GDP</th>\n",
       "      <th>Literacy</th>\n",
       "      <th>Phones_per_1000</th>\n",
       "      <th>Arable</th>\n",
       "      <th>Crops</th>\n",
       "      <th>Other</th>\n",
       "      <th>Climate</th>\n",
       "      <th>Birthrate</th>\n",
       "      <th>Deathrate</th>\n",
       "      <th>Agriculture</th>\n",
       "      <th>Industry</th>\n",
       "      <th>Service</th>\n",
       "    </tr>\n",
       "  </thead>\n",
       "  <tbody>\n",
       "    <tr>\n",
       "      <th>0</th>\n",
       "      <td>Afghanistan</td>\n",
       "      <td>ASIA (EX. NEAR EAST)</td>\n",
       "      <td>31056997</td>\n",
       "      <td>647500</td>\n",
       "      <td>48,0</td>\n",
       "      <td>0,00</td>\n",
       "      <td>23,06</td>\n",
       "      <td>163,07</td>\n",
       "      <td>700.0</td>\n",
       "      <td>36,0</td>\n",
       "      <td>3,2</td>\n",
       "      <td>12,13</td>\n",
       "      <td>0,22</td>\n",
       "      <td>87,65</td>\n",
       "      <td>1</td>\n",
       "      <td>46,6</td>\n",
       "      <td>20,34</td>\n",
       "      <td>0,38</td>\n",
       "      <td>0,24</td>\n",
       "      <td>0,38</td>\n",
       "    </tr>\n",
       "    <tr>\n",
       "      <th>1</th>\n",
       "      <td>Albania</td>\n",
       "      <td>EASTERN EUROPE</td>\n",
       "      <td>3581655</td>\n",
       "      <td>28748</td>\n",
       "      <td>124,6</td>\n",
       "      <td>1,26</td>\n",
       "      <td>-4,93</td>\n",
       "      <td>21,52</td>\n",
       "      <td>4500.0</td>\n",
       "      <td>86,5</td>\n",
       "      <td>71,2</td>\n",
       "      <td>21,09</td>\n",
       "      <td>4,42</td>\n",
       "      <td>74,49</td>\n",
       "      <td>3</td>\n",
       "      <td>15,11</td>\n",
       "      <td>5,22</td>\n",
       "      <td>0,232</td>\n",
       "      <td>0,188</td>\n",
       "      <td>0,579</td>\n",
       "    </tr>\n",
       "    <tr>\n",
       "      <th>2</th>\n",
       "      <td>Algeria</td>\n",
       "      <td>NORTHERN AFRICA</td>\n",
       "      <td>32930091</td>\n",
       "      <td>2381740</td>\n",
       "      <td>13,8</td>\n",
       "      <td>0,04</td>\n",
       "      <td>-0,39</td>\n",
       "      <td>31</td>\n",
       "      <td>6000.0</td>\n",
       "      <td>70,0</td>\n",
       "      <td>78,1</td>\n",
       "      <td>3,22</td>\n",
       "      <td>0,25</td>\n",
       "      <td>96,53</td>\n",
       "      <td>1</td>\n",
       "      <td>17,14</td>\n",
       "      <td>4,61</td>\n",
       "      <td>0,101</td>\n",
       "      <td>0,6</td>\n",
       "      <td>0,298</td>\n",
       "    </tr>\n",
       "    <tr>\n",
       "      <th>3</th>\n",
       "      <td>American Samoa</td>\n",
       "      <td>OCEANIA</td>\n",
       "      <td>57794</td>\n",
       "      <td>199</td>\n",
       "      <td>290,4</td>\n",
       "      <td>58,29</td>\n",
       "      <td>-20,71</td>\n",
       "      <td>9,27</td>\n",
       "      <td>8000.0</td>\n",
       "      <td>97,0</td>\n",
       "      <td>259,5</td>\n",
       "      <td>10</td>\n",
       "      <td>15</td>\n",
       "      <td>75</td>\n",
       "      <td>2</td>\n",
       "      <td>22,46</td>\n",
       "      <td>3,27</td>\n",
       "      <td>NaN</td>\n",
       "      <td>NaN</td>\n",
       "      <td>NaN</td>\n",
       "    </tr>\n",
       "    <tr>\n",
       "      <th>4</th>\n",
       "      <td>Andorra</td>\n",
       "      <td>WESTERN EUROPE</td>\n",
       "      <td>71201</td>\n",
       "      <td>468</td>\n",
       "      <td>152,1</td>\n",
       "      <td>0,00</td>\n",
       "      <td>6,6</td>\n",
       "      <td>4,05</td>\n",
       "      <td>19000.0</td>\n",
       "      <td>100,0</td>\n",
       "      <td>497,2</td>\n",
       "      <td>2,22</td>\n",
       "      <td>0</td>\n",
       "      <td>97,78</td>\n",
       "      <td>3</td>\n",
       "      <td>8,71</td>\n",
       "      <td>6,25</td>\n",
       "      <td>NaN</td>\n",
       "      <td>NaN</td>\n",
       "      <td>NaN</td>\n",
       "    </tr>\n",
       "  </tbody>\n",
       "</table>\n",
       "</div>"
      ],
      "text/plain": [
       "           Country                               Region  Population     Area  \\\n",
       "0     Afghanistan         ASIA (EX. NEAR EAST)             31056997   647500   \n",
       "1         Albania   EASTERN EUROPE                          3581655    28748   \n",
       "2         Algeria   NORTHERN AFRICA                        32930091  2381740   \n",
       "3  American Samoa   OCEANIA                                   57794      199   \n",
       "4         Andorra   WESTERN EUROPE                            71201      468   \n",
       "\n",
       "  Pop_density Coastline_ratio Net_migration Infant_mortality      GDP  \\\n",
       "0        48,0            0,00         23,06           163,07    700.0   \n",
       "1       124,6            1,26         -4,93            21,52   4500.0   \n",
       "2        13,8            0,04         -0,39               31   6000.0   \n",
       "3       290,4           58,29        -20,71             9,27   8000.0   \n",
       "4       152,1            0,00           6,6             4,05  19000.0   \n",
       "\n",
       "  Literacy Phones_per_1000 Arable Crops  Other Climate Birthrate Deathrate  \\\n",
       "0     36,0             3,2  12,13  0,22  87,65       1      46,6     20,34   \n",
       "1     86,5            71,2  21,09  4,42  74,49       3     15,11      5,22   \n",
       "2     70,0            78,1   3,22  0,25  96,53       1     17,14      4,61   \n",
       "3     97,0           259,5     10    15     75       2     22,46      3,27   \n",
       "4    100,0           497,2   2,22     0  97,78       3      8,71      6,25   \n",
       "\n",
       "  Agriculture Industry Service  \n",
       "0        0,38     0,24    0,38  \n",
       "1       0,232    0,188   0,579  \n",
       "2       0,101      0,6   0,298  \n",
       "3         NaN      NaN     NaN  \n",
       "4         NaN      NaN     NaN  "
      ]
     },
     "execution_count": 5,
     "metadata": {},
     "output_type": "execute_result"
    }
   ],
   "source": [
    "new_column_names = [\n",
    "    \"Country\", \"Region\", \"Population\", \"Area\", \"Pop_density\", \"Coastline_ratio\",\n",
    "    \"Net_migration\", \"Infant_mortality\", \"GDP\", \"Literacy\", \"Phones_per_1000\",\n",
    "    \"Arable\", \"Crops\", \"Other\", \"Climate\", \"Birthrate\", \"Deathrate\", \"Agriculture\",\n",
    "    \"Industry\", \"Service\"\n",
    "]\n",
    "\n",
    "countries.columns = new_column_names\n",
    "\n",
    "countries.head(5)"
   ]
  },
  {
   "cell_type": "code",
   "execution_count": 114,
   "metadata": {},
   "outputs": [
    {
     "data": {
      "text/plain": [
       "<bound method DataFrame.info of             Country                Region  Population     Area  Pop_density  \\\n",
       "0       Afghanistan  ASIA (EX. NEAR EAST)    31056997   647500         48.0   \n",
       "1           Albania        EASTERN EUROPE     3581655    28748        124.6   \n",
       "2           Algeria       NORTHERN AFRICA    32930091  2381740         13.8   \n",
       "3    American Samoa               OCEANIA       57794      199        290.4   \n",
       "4           Andorra        WESTERN EUROPE       71201      468        152.1   \n",
       "..              ...                   ...         ...      ...          ...   \n",
       "222       West Bank             NEAR EAST     2460492     5860        419.9   \n",
       "223  Western Sahara       NORTHERN AFRICA      273008   266000          1.0   \n",
       "224           Yemen             NEAR EAST    21456188   527970         40.6   \n",
       "225          Zambia    SUB-SAHARAN AFRICA    11502010   752614         15.3   \n",
       "226        Zimbabwe    SUB-SAHARAN AFRICA    12236805   390580         31.3   \n",
       "\n",
       "     Coastline_ratio  Net_migration  Infant_mortality      GDP  Literacy  \\\n",
       "0               0.00          23.06            163.07    700.0      36.0   \n",
       "1               1.26          -4.93             21.52   4500.0      86.5   \n",
       "2               0.04          -0.39             31.00   6000.0      70.0   \n",
       "3              58.29         -20.71              9.27   8000.0      97.0   \n",
       "4               0.00           6.60              4.05  19000.0     100.0   \n",
       "..               ...            ...               ...      ...       ...   \n",
       "222             0.00           2.98             19.62    800.0       NaN   \n",
       "223             0.42            NaN               NaN      NaN       NaN   \n",
       "224             0.36           0.00             61.50    800.0      50.2   \n",
       "225             0.00           0.00             88.29    800.0      80.6   \n",
       "226             0.00           0.00             67.69   1900.0      90.7   \n",
       "\n",
       "     Phones_per_1000  Arable  Crops  Other Climate  Birthrate  Deathrate  \\\n",
       "0                3.2   12.13   0.22  87.65       1      46.60      20.34   \n",
       "1               71.2   21.09   4.42  74.49       3      15.11       5.22   \n",
       "2               78.1    3.22   0.25  96.53       1      17.14       4.61   \n",
       "3              259.5   10.00  15.00  75.00       2      22.46       3.27   \n",
       "4              497.2    2.22   0.00  97.78       3       8.71       6.25   \n",
       "..               ...     ...    ...    ...     ...        ...        ...   \n",
       "222            145.2   16.90  18.97  64.13       3      31.67       3.92   \n",
       "223              NaN    0.02   0.00  99.98       1        NaN        NaN   \n",
       "224             37.2    2.78   0.24  96.98       1      42.89       8.30   \n",
       "225              8.2    7.08   0.03  92.90       2      41.00      19.93   \n",
       "226             26.8    8.32   0.34  91.34       2      28.01      21.84   \n",
       "\n",
       "     Agriculture  Industry  Service  \n",
       "0          0.380     0.240    0.380  \n",
       "1          0.232     0.188    0.579  \n",
       "2          0.101     0.600    0.298  \n",
       "3            NaN       NaN      NaN  \n",
       "4            NaN       NaN      NaN  \n",
       "..           ...       ...      ...  \n",
       "222        0.090     0.280    0.630  \n",
       "223          NaN       NaN    0.400  \n",
       "224        0.135     0.472    0.393  \n",
       "225        0.220     0.290    0.489  \n",
       "226        0.179     0.243    0.579  \n",
       "\n",
       "[227 rows x 20 columns]>"
      ]
     },
     "execution_count": 114,
     "metadata": {},
     "output_type": "execute_result"
    }
   ],
   "source": [
    "countries.info"
   ]
  },
  {
   "cell_type": "markdown",
   "metadata": {},
   "source": [
    "## Observações\n",
    "\n",
    "Esse _data set_ ainda precisa de alguns ajustes iniciais. Primeiro, note que as variáveis numéricas estão usando vírgula como separador decimal e estão codificadas como strings. Corrija isso antes de continuar: transforme essas variáveis em numéricas adequadamente.\n",
    "\n",
    "Além disso, as variáveis `Country` e `Region` possuem espaços a mais no começo e no final da string. Você pode utilizar o método `str.strip()` para remover esses espaços."
   ]
  },
  {
   "cell_type": "markdown",
   "metadata": {},
   "source": [
    "## Inicia sua análise a partir daqui"
   ]
  },
  {
   "cell_type": "code",
   "execution_count": 6,
   "metadata": {},
   "outputs": [],
   "source": [
    "num_cols=['Population','Area','Pop_density','Coastline_ratio','Net_migration',\"Infant_mortality\",'GDP','Literacy','Phones_per_1000','Arable','Crops','Other','Climate','Birthrate','Deathrate','Agriculture','Industry','Service']\n",
    "\n",
    "for C in num_cols:\n",
    "    countries[C]=countries[C].apply(lambda x: str(x).replace(',','.'))\n",
    "    countries[C]=countries[C].astype(np.float)"
   ]
  },
  {
   "cell_type": "code",
   "execution_count": 7,
   "metadata": {},
   "outputs": [],
   "source": [
    "countries.Country=countries.Country.apply(lambda x: str(x).strip())\n",
    "countries.Region=countries.Region.apply(lambda x: str(x).strip())"
   ]
  },
  {
   "cell_type": "code",
   "execution_count": 8,
   "metadata": {},
   "outputs": [
    {
     "data": {
      "text/plain": [
       "(227, 20)"
      ]
     },
     "execution_count": 8,
     "metadata": {},
     "output_type": "execute_result"
    }
   ],
   "source": [
    "countries.shape"
   ]
  },
  {
   "cell_type": "code",
   "execution_count": 51,
   "metadata": {},
   "outputs": [
    {
     "data": {
      "text/plain": [
       "Country              0\n",
       "Region               0\n",
       "Population           0\n",
       "Area                 0\n",
       "Pop_density          0\n",
       "Coastline_ratio      0\n",
       "Net_migration        0\n",
       "Infant_mortality     3\n",
       "GDP                  1\n",
       "Literacy            18\n",
       "Phones_per_1000      4\n",
       "Arable               2\n",
       "Crops                2\n",
       "Other                2\n",
       "Climate             22\n",
       "Birthrate            3\n",
       "Deathrate            4\n",
       "Agriculture         15\n",
       "Industry            16\n",
       "Service             15\n",
       "dtype: int64"
      ]
     },
     "execution_count": 51,
     "metadata": {},
     "output_type": "execute_result"
    }
   ],
   "source": [
    "countries.isna().sum()"
   ]
  },
  {
   "cell_type": "markdown",
   "metadata": {},
   "source": [
    "## Questão 1\n",
    "\n",
    "Quais são as regiões (variável `Region`) presentes no _data set_? Retorne uma lista com as regiões únicas do _data set_ com os espaços à frente e atrás da string removidos (mas mantenha pontuação: ponto, hífen etc) e ordenadas em ordem alfabética."
   ]
  },
  {
   "cell_type": "code",
   "execution_count": 6,
   "metadata": {},
   "outputs": [],
   "source": [
    "def q1():\n",
    "    # Retorne aqui o resultado da questão 1.\n",
    "    a=list(countries.Region.unique())\n",
    "    a.sort()\n",
    "    return a"
   ]
  },
  {
   "cell_type": "markdown",
   "metadata": {},
   "source": [
    "## Questão 2\n",
    "\n",
    "Discretizando a variável `Pop_density` em 10 intervalos com `KBinsDiscretizer`, seguindo o encode `ordinal` e estratégia `quantile`, quantos países se encontram acima do 90º percentil? Responda como um único escalar inteiro."
   ]
  },
  {
   "cell_type": "code",
   "execution_count": 93,
   "metadata": {},
   "outputs": [],
   "source": [
    "from sklearn.preprocessing import (\n",
    "    OneHotEncoder, Binarizer, KBinsDiscretizer,\n",
    "    MinMaxScaler, StandardScaler, PolynomialFeatures\n",
    ")"
   ]
  },
  {
   "cell_type": "code",
   "execution_count": 94,
   "metadata": {},
   "outputs": [
    {
     "data": {
      "text/plain": [
       "KBinsDiscretizer(encode='ordinal', n_bins=10, strategy='quantile')"
      ]
     },
     "execution_count": 94,
     "metadata": {},
     "output_type": "execute_result"
    }
   ],
   "source": [
    "discretizer = KBinsDiscretizer(n_bins=10,encode='ordinal',strategy='quantile')\n",
    "discretizer.fit(countries[[\"Pop_density\"]])"
   ]
  },
  {
   "cell_type": "code",
   "execution_count": 95,
   "metadata": {},
   "outputs": [
    {
     "data": {
      "text/plain": [
       "array([0.00000e+00, 1.01400e+01, 2.12200e+01, 3.94800e+01, 5.98000e+01,\n",
       "       7.88000e+01, 1.05540e+02, 1.50120e+02, 2.53700e+02, 3.96740e+02,\n",
       "       1.62715e+04])"
      ]
     },
     "execution_count": 95,
     "metadata": {},
     "output_type": "execute_result"
    }
   ],
   "source": [
    "discretizer.bin_edges_[0]"
   ]
  },
  {
   "cell_type": "code",
   "execution_count": 102,
   "metadata": {},
   "outputs": [],
   "source": [
    "def q2():\n",
    "    return countries[\"Pop_density\"][countries.Pop_density>=discretizer.bin_edges_[0][9]].count()"
   ]
  },
  {
   "cell_type": "markdown",
   "metadata": {},
   "source": [
    "# Questão 3\n",
    "\n",
    "Se codificarmos as variáveis `Region` e `Climate` usando _one-hot encoding_, quantos novos atributos seriam criados? Responda como um único escalar."
   ]
  },
  {
   "cell_type": "code",
   "execution_count": 101,
   "metadata": {},
   "outputs": [],
   "source": [
    "def q3():\n",
    "    reg_at=countries.Region.nunique()\n",
    "    Climate_at=countries.Climate.nunique()\n",
    "    return reg_at+Climate_at"
   ]
  },
  {
   "cell_type": "markdown",
   "metadata": {},
   "source": [
    "## Questão 4\n",
    "\n",
    "Aplique o seguinte _pipeline_:\n",
    "\n",
    "1. Preencha as variáveis do tipo `int64` e `float64` com suas respectivas medianas.\n",
    "2. Padronize essas variáveis.\n",
    "\n",
    "Após aplicado o _pipeline_ descrito acima aos dados (somente nas variáveis dos tipos especificados), aplique o mesmo _pipeline_ (ou `ColumnTransformer`) ao dado abaixo. Qual o valor da variável `Arable` após o _pipeline_? Responda como um único float arredondado para três casas decimais."
   ]
  },
  {
   "cell_type": "code",
   "execution_count": 127,
   "metadata": {},
   "outputs": [],
   "source": [
    "from sklearn.pipeline import Pipeline\n",
    "from sklearn.impute import SimpleImputer"
   ]
  },
  {
   "cell_type": "code",
   "execution_count": 139,
   "metadata": {},
   "outputs": [],
   "source": [
    "df_pad=countries[[\"Country\",\"Region\"]]"
   ]
  },
  {
   "cell_type": "code",
   "execution_count": 128,
   "metadata": {},
   "outputs": [],
   "source": [
    "num_pipeline = Pipeline(steps=[\n",
    "    (\"imputer\",SimpleImputer(strategy='median')),\n",
    "    (\"stardizer\", StandardScaler())\n",
    "])"
   ]
  },
  {
   "cell_type": "code",
   "execution_count": 129,
   "metadata": {},
   "outputs": [
    {
     "data": {
      "text/plain": [
       "array([[ 1.96946842e-02,  2.75833238e-02, -1.99844336e-01,\n",
       "        -2.93443424e-01,  4.75079803e+00,  3.63809820e+00,\n",
       "        -8.96394232e-01, -2.49781686e+00, -1.02749132e+00,\n",
       "        -1.26360817e-01, -5.18861111e-01,  3.72601687e-01,\n",
       "        -1.69435818e+00,  2.21296666e+00,  2.25250740e+00,\n",
       "         1.63657562e+00, -3.15405761e-01, -1.16113540e+00],\n",
       "       [-2.13876876e-01, -3.18797484e-01, -1.53602957e-01,\n",
       "        -2.75974351e-01, -1.02509671e+00, -3.92849919e-01,\n",
       "        -5.16717983e-01,  1.51932689e-01, -7.26078820e-01,\n",
       "         5.65115164e-01, -1.36038942e-02, -4.47933408e-01,\n",
       "         1.31636046e+00, -6.27986167e-01, -8.09332600e-01,\n",
       "         5.95163494e-01, -7.06318151e-01,  8.34243202e-02],\n",
       "       [ 3.56181070e-02,  9.98420512e-01, -2.20489965e-01,\n",
       "        -2.92888851e-01, -8.82420407e-02, -1.22886032e-01,\n",
       "        -3.66845780e-01, -7.13827065e-01, -6.95494316e-01,\n",
       "        -8.13978114e-01, -5.15252131e-01,  9.26275825e-01,\n",
       "        -1.69435818e+00, -4.44844401e-01, -9.32859214e-01,\n",
       "        -3.26626965e-01,  2.39091078e+00, -1.67396905e+00],\n",
       "       [-2.43833690e-01, -3.34779373e-01, -5.35139144e-02,\n",
       "         5.14709195e-01, -4.28138891e+00, -7.41695658e-01,\n",
       "        -1.67016175e-01,  7.02870714e-01,  1.08567862e-01,\n",
       "        -2.90740709e-01,  1.25916309e+00, -4.16134555e-01,\n",
       "        -1.88998858e-01,  3.51133333e-02, -1.20421276e+00,\n",
       "        -3.40700102e-01, -7.48442902e-02,  3.33917689e-02],\n",
       "       [-2.43719715e-01, -3.34628785e-01, -1.37001939e-01,\n",
       "        -2.93443424e-01,  1.35418397e+00, -8.90346659e-01,\n",
       "         9.32046651e-01,  8.60281579e-01,  1.16218186e+00,\n",
       "        -8.91151773e-01, -5.45326965e-01,  1.00421419e+00,\n",
       "         1.31636046e+00, -1.20537893e+00, -6.00754875e-01,\n",
       "        -3.40700102e-01, -7.48442902e-02,  3.33917689e-02],\n",
       "       [-1.41231151e-01,  3.63018813e-01, -2.22965025e-01,\n",
       "        -2.91641060e-01, -7.76333603e-03,  4.43887716e+00,\n",
       "        -7.76496469e-01, -2.18299513e+00, -1.00710165e+00,\n",
       "        -8.76488777e-01, -5.16455124e-01,  9.77403392e-01,\n",
       "        -1.88998858e-01,  2.07854241e+00,  3.03416761e+00,\n",
       "        -3.61809807e-01,  2.82692845e+00, -1.99918063e+00],\n",
       "       [-2.44210435e-01, -3.34833674e-01, -1.49075407e-01,\n",
       "         5.35644355e-01,  2.21262349e+00, -4.06803748e-01,\n",
       "        -1.07067294e-01,  5.97930138e-01,  9.97291494e-01,\n",
       "        -1.06247729e+00, -5.45326965e-01,  1.14263272e+00,\n",
       "        -1.88998858e-01, -7.12790729e-01, -7.85032283e-01,\n",
       "        -7.55857637e-01, -7.66458518e-01,  1.34049217e+00],\n",
       "       [-2.43737508e-01, -3.34642780e-01, -1.34647613e-01,\n",
       "         1.85431022e-01, -1.27685060e+00, -4.51512957e-01,\n",
       "         1.32728232e-01,  2.83108409e-01,  1.39577655e+00,\n",
       "         3.40539817e-01,  2.03501963e-03, -2.74598487e-01,\n",
       "        -1.88998858e-01, -4.63790101e-01, -7.78957203e-01,\n",
       "        -7.69930774e-01, -4.65756680e-01,  1.10909162e+00],\n",
       "       [ 9.50558417e-02,  1.21402962e+00, -2.20127760e-01,\n",
       "        -2.90947842e-01,  1.18113612e-01, -5.73395387e-01,\n",
       "         1.52711192e-01,  7.08117743e-01, -6.47443274e-02,\n",
       "        -1.12469558e-01, -4.87583283e-01,  3.45167383e-01,\n",
       "         1.31636046e+00, -4.81833624e-01, -3.37501436e-01,\n",
       "        -3.68846376e-01,  5.71664662e-01, -1.16705885e-01],\n",
       "       [-2.19022468e-01, -3.18208568e-01, -1.68513689e-01,\n",
       "        -2.93443424e-01, -1.34288441e+00, -3.42730041e-01,\n",
       "        -6.16632786e-01,  7.86823175e-01, -1.74227987e-01,\n",
       "         2.91920412e-01, -2.68638489e-01, -9.50284961e-02,\n",
       "         2.82171979e+00, -9.02247730e-01, -1.99799637e-01,\n",
       "         6.44419473e-01,  4.58901473e-01, -9.23480776e-01]])"
      ]
     },
     "execution_count": 129,
     "metadata": {},
     "output_type": "execute_result"
    }
   ],
   "source": [
    "countries_pipetransf= num_pipeline.fit_transform(countries[num_cols])\n",
    "\n",
    "countries_pipetransf[:10]"
   ]
  },
  {
   "cell_type": "code",
   "execution_count": 140,
   "metadata": {},
   "outputs": [],
   "source": [
    "countries_pad=pd.DataFrame(countries_pipetransf,columns=num_cols)\n",
    "df_pad=pd.concat([df_pad,countries_pad],axis=1)"
   ]
  },
  {
   "cell_type": "code",
   "execution_count": 141,
   "metadata": {},
   "outputs": [
    {
     "data": {
      "text/html": [
       "<div>\n",
       "<style scoped>\n",
       "    .dataframe tbody tr th:only-of-type {\n",
       "        vertical-align: middle;\n",
       "    }\n",
       "\n",
       "    .dataframe tbody tr th {\n",
       "        vertical-align: top;\n",
       "    }\n",
       "\n",
       "    .dataframe thead th {\n",
       "        text-align: right;\n",
       "    }\n",
       "</style>\n",
       "<table border=\"1\" class=\"dataframe\">\n",
       "  <thead>\n",
       "    <tr style=\"text-align: right;\">\n",
       "      <th></th>\n",
       "      <th>Country</th>\n",
       "      <th>Region</th>\n",
       "      <th>Population</th>\n",
       "      <th>Area</th>\n",
       "      <th>Pop_density</th>\n",
       "      <th>Coastline_ratio</th>\n",
       "      <th>Net_migration</th>\n",
       "      <th>Infant_mortality</th>\n",
       "      <th>GDP</th>\n",
       "      <th>Literacy</th>\n",
       "      <th>Phones_per_1000</th>\n",
       "      <th>Arable</th>\n",
       "      <th>Crops</th>\n",
       "      <th>Other</th>\n",
       "      <th>Climate</th>\n",
       "      <th>Birthrate</th>\n",
       "      <th>Deathrate</th>\n",
       "      <th>Agriculture</th>\n",
       "      <th>Industry</th>\n",
       "      <th>Service</th>\n",
       "    </tr>\n",
       "  </thead>\n",
       "  <tbody>\n",
       "    <tr>\n",
       "      <th>0</th>\n",
       "      <td>Afghanistan</td>\n",
       "      <td>ASIA (EX. NEAR EAST)</td>\n",
       "      <td>0.019695</td>\n",
       "      <td>0.027583</td>\n",
       "      <td>-0.199844</td>\n",
       "      <td>-0.293443</td>\n",
       "      <td>4.750798</td>\n",
       "      <td>3.638098</td>\n",
       "      <td>-0.896394</td>\n",
       "      <td>-2.497817</td>\n",
       "      <td>-1.027491</td>\n",
       "      <td>-0.126361</td>\n",
       "      <td>-0.518861</td>\n",
       "      <td>0.372602</td>\n",
       "      <td>-1.694358</td>\n",
       "      <td>2.212967</td>\n",
       "      <td>2.252507</td>\n",
       "      <td>1.636576</td>\n",
       "      <td>-0.315406</td>\n",
       "      <td>-1.161135</td>\n",
       "    </tr>\n",
       "    <tr>\n",
       "      <th>1</th>\n",
       "      <td>Albania</td>\n",
       "      <td>EASTERN EUROPE</td>\n",
       "      <td>-0.213877</td>\n",
       "      <td>-0.318797</td>\n",
       "      <td>-0.153603</td>\n",
       "      <td>-0.275974</td>\n",
       "      <td>-1.025097</td>\n",
       "      <td>-0.392850</td>\n",
       "      <td>-0.516718</td>\n",
       "      <td>0.151933</td>\n",
       "      <td>-0.726079</td>\n",
       "      <td>0.565115</td>\n",
       "      <td>-0.013604</td>\n",
       "      <td>-0.447933</td>\n",
       "      <td>1.316360</td>\n",
       "      <td>-0.627986</td>\n",
       "      <td>-0.809333</td>\n",
       "      <td>0.595163</td>\n",
       "      <td>-0.706318</td>\n",
       "      <td>0.083424</td>\n",
       "    </tr>\n",
       "    <tr>\n",
       "      <th>2</th>\n",
       "      <td>Algeria</td>\n",
       "      <td>NORTHERN AFRICA</td>\n",
       "      <td>0.035618</td>\n",
       "      <td>0.998421</td>\n",
       "      <td>-0.220490</td>\n",
       "      <td>-0.292889</td>\n",
       "      <td>-0.088242</td>\n",
       "      <td>-0.122886</td>\n",
       "      <td>-0.366846</td>\n",
       "      <td>-0.713827</td>\n",
       "      <td>-0.695494</td>\n",
       "      <td>-0.813978</td>\n",
       "      <td>-0.515252</td>\n",
       "      <td>0.926276</td>\n",
       "      <td>-1.694358</td>\n",
       "      <td>-0.444844</td>\n",
       "      <td>-0.932859</td>\n",
       "      <td>-0.326627</td>\n",
       "      <td>2.390911</td>\n",
       "      <td>-1.673969</td>\n",
       "    </tr>\n",
       "    <tr>\n",
       "      <th>3</th>\n",
       "      <td>American Samoa</td>\n",
       "      <td>OCEANIA</td>\n",
       "      <td>-0.243834</td>\n",
       "      <td>-0.334779</td>\n",
       "      <td>-0.053514</td>\n",
       "      <td>0.514709</td>\n",
       "      <td>-4.281389</td>\n",
       "      <td>-0.741696</td>\n",
       "      <td>-0.167016</td>\n",
       "      <td>0.702871</td>\n",
       "      <td>0.108568</td>\n",
       "      <td>-0.290741</td>\n",
       "      <td>1.259163</td>\n",
       "      <td>-0.416135</td>\n",
       "      <td>-0.188999</td>\n",
       "      <td>0.035113</td>\n",
       "      <td>-1.204213</td>\n",
       "      <td>-0.340700</td>\n",
       "      <td>-0.074844</td>\n",
       "      <td>0.033392</td>\n",
       "    </tr>\n",
       "    <tr>\n",
       "      <th>4</th>\n",
       "      <td>Andorra</td>\n",
       "      <td>WESTERN EUROPE</td>\n",
       "      <td>-0.243720</td>\n",
       "      <td>-0.334629</td>\n",
       "      <td>-0.137002</td>\n",
       "      <td>-0.293443</td>\n",
       "      <td>1.354184</td>\n",
       "      <td>-0.890347</td>\n",
       "      <td>0.932047</td>\n",
       "      <td>0.860282</td>\n",
       "      <td>1.162182</td>\n",
       "      <td>-0.891152</td>\n",
       "      <td>-0.545327</td>\n",
       "      <td>1.004214</td>\n",
       "      <td>1.316360</td>\n",
       "      <td>-1.205379</td>\n",
       "      <td>-0.600755</td>\n",
       "      <td>-0.340700</td>\n",
       "      <td>-0.074844</td>\n",
       "      <td>0.033392</td>\n",
       "    </tr>\n",
       "    <tr>\n",
       "      <th>...</th>\n",
       "      <td>...</td>\n",
       "      <td>...</td>\n",
       "      <td>...</td>\n",
       "      <td>...</td>\n",
       "      <td>...</td>\n",
       "      <td>...</td>\n",
       "      <td>...</td>\n",
       "      <td>...</td>\n",
       "      <td>...</td>\n",
       "      <td>...</td>\n",
       "      <td>...</td>\n",
       "      <td>...</td>\n",
       "      <td>...</td>\n",
       "      <td>...</td>\n",
       "      <td>...</td>\n",
       "      <td>...</td>\n",
       "      <td>...</td>\n",
       "      <td>...</td>\n",
       "      <td>...</td>\n",
       "      <td>...</td>\n",
       "    </tr>\n",
       "    <tr>\n",
       "      <th>222</th>\n",
       "      <td>West Bank</td>\n",
       "      <td>NEAR EAST</td>\n",
       "      <td>-0.223408</td>\n",
       "      <td>-0.331610</td>\n",
       "      <td>0.024662</td>\n",
       "      <td>-0.293443</td>\n",
       "      <td>0.607177</td>\n",
       "      <td>-0.446957</td>\n",
       "      <td>-0.886403</td>\n",
       "      <td>0.466754</td>\n",
       "      <td>-0.398071</td>\n",
       "      <td>0.241758</td>\n",
       "      <td>1.736751</td>\n",
       "      <td>-1.093887</td>\n",
       "      <td>1.316360</td>\n",
       "      <td>0.866018</td>\n",
       "      <td>-1.072586</td>\n",
       "      <td>-0.404029</td>\n",
       "      <td>-0.014704</td>\n",
       "      <td>0.402382</td>\n",
       "    </tr>\n",
       "    <tr>\n",
       "      <th>223</th>\n",
       "      <td>Western Sahara</td>\n",
       "      <td>NORTHERN AFRICA</td>\n",
       "      <td>-0.242004</td>\n",
       "      <td>-0.185982</td>\n",
       "      <td>-0.228217</td>\n",
       "      <td>-0.287620</td>\n",
       "      <td>-0.007763</td>\n",
       "      <td>-0.407658</td>\n",
       "      <td>-0.411807</td>\n",
       "      <td>0.466754</td>\n",
       "      <td>-0.260662</td>\n",
       "      <td>-1.060934</td>\n",
       "      <td>-0.545327</td>\n",
       "      <td>1.141386</td>\n",
       "      <td>-1.694358</td>\n",
       "      <td>-0.295985</td>\n",
       "      <td>-0.278776</td>\n",
       "      <td>-0.340700</td>\n",
       "      <td>-0.074844</td>\n",
       "      <td>-1.036054</td>\n",
       "    </tr>\n",
       "    <tr>\n",
       "      <th>224</th>\n",
       "      <td>Yemen</td>\n",
       "      <td>NEAR EAST</td>\n",
       "      <td>-0.061923</td>\n",
       "      <td>-0.039330</td>\n",
       "      <td>-0.204312</td>\n",
       "      <td>-0.288452</td>\n",
       "      <td>-0.007763</td>\n",
       "      <td>0.745669</td>\n",
       "      <td>-0.886403</td>\n",
       "      <td>-1.752739</td>\n",
       "      <td>-0.876785</td>\n",
       "      <td>-0.847935</td>\n",
       "      <td>-0.516455</td>\n",
       "      <td>0.954334</td>\n",
       "      <td>-1.694358</td>\n",
       "      <td>1.878259</td>\n",
       "      <td>-0.185624</td>\n",
       "      <td>-0.087384</td>\n",
       "      <td>1.428665</td>\n",
       "      <td>-1.079832</td>\n",
       "    </tr>\n",
       "    <tr>\n",
       "      <th>225</th>\n",
       "      <td>Zambia</td>\n",
       "      <td>SUB-SAHARAN AFRICA</td>\n",
       "      <td>-0.146545</td>\n",
       "      <td>0.086427</td>\n",
       "      <td>-0.219584</td>\n",
       "      <td>-0.293443</td>\n",
       "      <td>-0.007763</td>\n",
       "      <td>1.508573</td>\n",
       "      <td>-0.886403</td>\n",
       "      <td>-0.157642</td>\n",
       "      <td>-1.005329</td>\n",
       "      <td>-0.516088</td>\n",
       "      <td>-0.541718</td>\n",
       "      <td>0.699943</td>\n",
       "      <td>-0.188999</td>\n",
       "      <td>1.707748</td>\n",
       "      <td>2.169481</td>\n",
       "      <td>0.510725</td>\n",
       "      <td>0.060472</td>\n",
       "      <td>-0.479442</td>\n",
       "    </tr>\n",
       "    <tr>\n",
       "      <th>226</th>\n",
       "      <td>Zimbabwe</td>\n",
       "      <td>SUB-SAHARAN AFRICA</td>\n",
       "      <td>-0.140298</td>\n",
       "      <td>-0.116242</td>\n",
       "      <td>-0.209926</td>\n",
       "      <td>-0.293443</td>\n",
       "      <td>-0.007763</td>\n",
       "      <td>0.921943</td>\n",
       "      <td>-0.776496</td>\n",
       "      <td>0.372308</td>\n",
       "      <td>-0.922883</td>\n",
       "      <td>-0.420392</td>\n",
       "      <td>-0.504425</td>\n",
       "      <td>0.602676</td>\n",
       "      <td>-0.188999</td>\n",
       "      <td>0.535821</td>\n",
       "      <td>2.556261</td>\n",
       "      <td>0.222225</td>\n",
       "      <td>-0.292853</td>\n",
       "      <td>0.083424</td>\n",
       "    </tr>\n",
       "  </tbody>\n",
       "</table>\n",
       "<p>227 rows × 20 columns</p>\n",
       "</div>"
      ],
      "text/plain": [
       "            Country                Region  Population      Area  Pop_density  \\\n",
       "0       Afghanistan  ASIA (EX. NEAR EAST)    0.019695  0.027583    -0.199844   \n",
       "1           Albania        EASTERN EUROPE   -0.213877 -0.318797    -0.153603   \n",
       "2           Algeria       NORTHERN AFRICA    0.035618  0.998421    -0.220490   \n",
       "3    American Samoa               OCEANIA   -0.243834 -0.334779    -0.053514   \n",
       "4           Andorra        WESTERN EUROPE   -0.243720 -0.334629    -0.137002   \n",
       "..              ...                   ...         ...       ...          ...   \n",
       "222       West Bank             NEAR EAST   -0.223408 -0.331610     0.024662   \n",
       "223  Western Sahara       NORTHERN AFRICA   -0.242004 -0.185982    -0.228217   \n",
       "224           Yemen             NEAR EAST   -0.061923 -0.039330    -0.204312   \n",
       "225          Zambia    SUB-SAHARAN AFRICA   -0.146545  0.086427    -0.219584   \n",
       "226        Zimbabwe    SUB-SAHARAN AFRICA   -0.140298 -0.116242    -0.209926   \n",
       "\n",
       "     Coastline_ratio  Net_migration  Infant_mortality       GDP  Literacy  \\\n",
       "0          -0.293443       4.750798          3.638098 -0.896394 -2.497817   \n",
       "1          -0.275974      -1.025097         -0.392850 -0.516718  0.151933   \n",
       "2          -0.292889      -0.088242         -0.122886 -0.366846 -0.713827   \n",
       "3           0.514709      -4.281389         -0.741696 -0.167016  0.702871   \n",
       "4          -0.293443       1.354184         -0.890347  0.932047  0.860282   \n",
       "..               ...            ...               ...       ...       ...   \n",
       "222        -0.293443       0.607177         -0.446957 -0.886403  0.466754   \n",
       "223        -0.287620      -0.007763         -0.407658 -0.411807  0.466754   \n",
       "224        -0.288452      -0.007763          0.745669 -0.886403 -1.752739   \n",
       "225        -0.293443      -0.007763          1.508573 -0.886403 -0.157642   \n",
       "226        -0.293443      -0.007763          0.921943 -0.776496  0.372308   \n",
       "\n",
       "     Phones_per_1000    Arable     Crops     Other   Climate  Birthrate  \\\n",
       "0          -1.027491 -0.126361 -0.518861  0.372602 -1.694358   2.212967   \n",
       "1          -0.726079  0.565115 -0.013604 -0.447933  1.316360  -0.627986   \n",
       "2          -0.695494 -0.813978 -0.515252  0.926276 -1.694358  -0.444844   \n",
       "3           0.108568 -0.290741  1.259163 -0.416135 -0.188999   0.035113   \n",
       "4           1.162182 -0.891152 -0.545327  1.004214  1.316360  -1.205379   \n",
       "..               ...       ...       ...       ...       ...        ...   \n",
       "222        -0.398071  0.241758  1.736751 -1.093887  1.316360   0.866018   \n",
       "223        -0.260662 -1.060934 -0.545327  1.141386 -1.694358  -0.295985   \n",
       "224        -0.876785 -0.847935 -0.516455  0.954334 -1.694358   1.878259   \n",
       "225        -1.005329 -0.516088 -0.541718  0.699943 -0.188999   1.707748   \n",
       "226        -0.922883 -0.420392 -0.504425  0.602676 -0.188999   0.535821   \n",
       "\n",
       "     Deathrate  Agriculture  Industry   Service  \n",
       "0     2.252507     1.636576 -0.315406 -1.161135  \n",
       "1    -0.809333     0.595163 -0.706318  0.083424  \n",
       "2    -0.932859    -0.326627  2.390911 -1.673969  \n",
       "3    -1.204213    -0.340700 -0.074844  0.033392  \n",
       "4    -0.600755    -0.340700 -0.074844  0.033392  \n",
       "..         ...          ...       ...       ...  \n",
       "222  -1.072586    -0.404029 -0.014704  0.402382  \n",
       "223  -0.278776    -0.340700 -0.074844 -1.036054  \n",
       "224  -0.185624    -0.087384  1.428665 -1.079832  \n",
       "225   2.169481     0.510725  0.060472 -0.479442  \n",
       "226   2.556261     0.222225 -0.292853  0.083424  \n",
       "\n",
       "[227 rows x 20 columns]"
      ]
     },
     "execution_count": 141,
     "metadata": {},
     "output_type": "execute_result"
    }
   ],
   "source": [
    "df_pad"
   ]
  },
  {
   "cell_type": "code",
   "execution_count": 10,
   "metadata": {},
   "outputs": [],
   "source": [
    "test_country = [\n",
    "    'Test Country', 'NEAR EAST', -0.19032480757326514,\n",
    "    -0.3232636124824411, -0.04421734470810142, -0.27528113360605316,\n",
    "    0.13255850810281325, -0.8054845935643491, 1.0119784924248225,\n",
    "    0.6189182532646624, 1.0074863283776458, 0.20239896852403538,\n",
    "    -0.043678728558593366, -0.13929748680369286, 1.3163604645710438,\n",
    "    -0.3699637766938669, -0.6149300604558857, -0.854369594993175,\n",
    "    0.263445277972641, 0.5712416961268142\n",
    "]"
   ]
  },
  {
   "cell_type": "code",
   "execution_count": 142,
   "metadata": {},
   "outputs": [],
   "source": [
    "def q4():\n",
    "    return test_country[11]"
   ]
  },
  {
   "cell_type": "markdown",
   "metadata": {},
   "source": [
    "## Questão 5\n",
    "\n",
    "Descubra o número de _outliers_ da variável `Net_migration` segundo o método do _boxplot_, ou seja, usando a lógica:\n",
    "\n",
    "$$x \\notin [Q1 - 1.5 \\times \\text{IQR}, Q3 + 1.5 \\times \\text{IQR}] \\Rightarrow x \\text{ é outlier}$$\n",
    "\n",
    "que se encontram no grupo inferior e no grupo superior.\n",
    "\n",
    "Você deveria remover da análise as observações consideradas _outliers_ segundo esse método? Responda como uma tupla de três elementos `(outliers_abaixo, outliers_acima, removeria?)` ((int, int, bool))."
   ]
  },
  {
   "cell_type": "code",
   "execution_count": 9,
   "metadata": {},
   "outputs": [],
   "source": [
    "quant1=countries.Net_migration.quantile(0.25)\n",
    "quant3=countries.Net_migration.quantile(0.75)\n",
    "IQR=quant3-quant1"
   ]
  },
  {
   "cell_type": "code",
   "execution_count": 14,
   "metadata": {},
   "outputs": [],
   "source": [
    "outliers_abaixo=countries['Net_migration'][countries.Net_migration<quant1-1.5*IQR].count()\n",
    "outliers_acima=countries['Net_migration'][countries.Net_migration>quant3+1.5*IQR].count()"
   ]
  },
  {
   "cell_type": "code",
   "execution_count": 16,
   "metadata": {},
   "outputs": [
    {
     "data": {
      "text/plain": [
       "24"
      ]
     },
     "execution_count": 16,
     "metadata": {},
     "output_type": "execute_result"
    }
   ],
   "source": [
    "outliers_abaixo"
   ]
  },
  {
   "cell_type": "code",
   "execution_count": 161,
   "metadata": {},
   "outputs": [],
   "source": [
    "def q5():\n",
    "    return tuple([outliers_abaixo,outliers_acima,False])"
   ]
  },
  {
   "cell_type": "markdown",
   "metadata": {},
   "source": [
    "## Questão 6\n",
    "Para as questões 6 e 7 utilize a biblioteca `fetch_20newsgroups` de datasets de test do `sklearn`\n",
    "\n",
    "Considere carregar as seguintes categorias e o dataset `newsgroups`:\n",
    "\n",
    "```\n",
    "categories = ['sci.electronics', 'comp.graphics', 'rec.motorcycles']\n",
    "newsgroup = fetch_20newsgroups(subset=\"train\", categories=categories, shuffle=True, random_state=42)\n",
    "```\n",
    "\n",
    "\n",
    "Aplique `CountVectorizer` ao _data set_ `newsgroups` e descubra o número de vezes que a palavra _phone_ aparece no corpus. Responda como um único escalar."
   ]
  },
  {
   "cell_type": "code",
   "execution_count": 18,
   "metadata": {},
   "outputs": [],
   "source": [
    "from sklearn.datasets import fetch_20newsgroups"
   ]
  },
  {
   "cell_type": "code",
   "execution_count": 19,
   "metadata": {},
   "outputs": [],
   "source": [
    "from sklearn.feature_extraction.text import (\n",
    "    CountVectorizer, TfidfTransformer, TfidfVectorizer\n",
    ")"
   ]
  },
  {
   "cell_type": "code",
   "execution_count": 20,
   "metadata": {},
   "outputs": [],
   "source": [
    "categories = ['sci.electronics', 'comp.graphics', 'rec.motorcycles']\n",
    "newsgroup = fetch_20newsgroups(subset=\"train\", categories=categories, shuffle=True, random_state=42)"
   ]
  },
  {
   "cell_type": "code",
   "execution_count": 21,
   "metadata": {},
   "outputs": [],
   "source": [
    "cv=CountVectorizer()\n",
    "newgroups_counts=cv.fit_transform(newsgroup.data)"
   ]
  },
  {
   "cell_type": "code",
   "execution_count": 22,
   "metadata": {},
   "outputs": [],
   "source": [
    "freqs=pd.DataFrame(newgroups_counts.toarray(),columns=np.array(cv.get_feature_names()))"
   ]
  },
  {
   "cell_type": "code",
   "execution_count": 23,
   "metadata": {},
   "outputs": [],
   "source": [
    "def q6():\n",
    "    return freqs['phone'].sum()"
   ]
  },
  {
   "cell_type": "markdown",
   "metadata": {},
   "source": [
    "## Questão 7\n",
    "\n",
    "Aplique `TfidfVectorizer` ao _data set_ `newsgroups` e descubra o TF-IDF da palavra _phone_. Responda como um único escalar arredondado para três casas decimais."
   ]
  },
  {
   "cell_type": "code",
   "execution_count": 24,
   "metadata": {},
   "outputs": [],
   "source": [
    "tfidf_vectorizer = TfidfVectorizer()\n",
    "tfidf_vectorizer.fit(newsgroup.data)\n",
    "newsgroups_tfidf_vectorized = tfidf_vectorizer.transform(newsgroup.data)"
   ]
  },
  {
   "cell_type": "code",
   "execution_count": 25,
   "metadata": {},
   "outputs": [],
   "source": [
    "newsgroups_tfidf=pd.DataFrame(newsgroups_tfidf_vectorized.toarray(),columns=np.array(cv.get_feature_names()))"
   ]
  },
  {
   "cell_type": "code",
   "execution_count": 208,
   "metadata": {},
   "outputs": [],
   "source": [
    "def q7():\n",
    "    return float(round(newsgroups_tfidf['phone'].sum(),3))"
   ]
  }
 ],
 "metadata": {
  "kernelspec": {
   "display_name": "Python 3",
   "language": "python",
   "name": "python3"
  },
  "language_info": {
   "codemirror_mode": {
    "name": "ipython",
    "version": 3
   },
   "file_extension": ".py",
   "mimetype": "text/x-python",
   "name": "python",
   "nbconvert_exporter": "python",
   "pygments_lexer": "ipython3",
   "version": "3.7.6"
  }
 },
 "nbformat": 4,
 "nbformat_minor": 2
}
